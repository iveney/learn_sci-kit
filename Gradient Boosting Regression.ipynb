{
 "cells": [
  {
   "cell_type": "code",
   "execution_count": 24,
   "metadata": {
    "collapsed": true
   },
   "outputs": [],
   "source": [
    "import numpy as np\n",
    "import matplotlib.pyplot as plt\n",
    "\n",
    "from sklearn import ensemble\n",
    "from sklearn import datasets\n",
    "from sklearn.utils import shuffle\n",
    "from sklearn.metrics import mean_squared_error\n",
    "from sklearn.model_selection import train_test_split\n",
    "from sklearn import linear_model, svm, neural_network, isotonic\n",
    "from sklearn import preprocessing"
   ]
  },
  {
   "cell_type": "code",
   "execution_count": 3,
   "metadata": {
    "collapsed": false
   },
   "outputs": [
    {
     "name": "stdout",
     "output_type": "stream",
     "text": [
      "(455, 13) (51, 13)\n"
     ]
    }
   ],
   "source": [
    "# Load data\n",
    "boston = datasets.load_boston()\n",
    "X_train, X_test, y_train, y_test = train_test_split(boston.data, boston.target, test_size=0.1)\n",
    "print(X_train.shape, X_test.shape)"
   ]
  },
  {
   "cell_type": "code",
   "execution_count": 28,
   "metadata": {
    "collapsed": false
   },
   "outputs": [],
   "source": [
    "n_estimators = 500\n",
    "max_depth = 5\n",
    "\n",
    "# Gradient boosting\n",
    "gbr = ensemble.GradientBoostingRegressor(n_estimators=n_estimators, max_depth=max_depth)\n",
    "\n",
    "# Random Forest\n",
    "rf = ensemble.RandomForestRegressor(n_estimators=n_estimators, max_depth=max_depth)\n",
    "\n",
    "# Linear regression\n",
    "lr = linear_model.LinearRegression()\n",
    "\n",
    "# Robust regression\n",
    "huber = linear_model.HuberRegressor()\n",
    "\n",
    "# Ridge\n",
    "ridge = linear_model.Ridge()\n",
    "\n",
    "# linear SVR\n",
    "linear_svr = svm.LinearSVR()\n",
    "\n",
    "# SVR\n",
    "svr = svm.SVR()\n",
    "\n",
    "# Neural network\n",
    "nn = neural_network.MLPRegressor(hidden_layer_sizes=(13, 8), activation='relu')\n",
    "\n",
    "all_clf = [gbr, rf, lr, huber, ridge, linear_svr, svr, nn]"
   ]
  },
  {
   "cell_type": "code",
   "execution_count": 29,
   "metadata": {
    "collapsed": false
   },
   "outputs": [
    {
     "name": "stdout",
     "output_type": "stream",
     "text": [
      "MSE: 12.0236\n",
      "MSE: 12.6120\n",
      "MSE: 14.5655\n",
      "MSE: 18.2920\n",
      "MSE: 15.3630\n",
      "MSE: 16.3226\n",
      "MSE: 65.7830\n",
      "MSE: 39.0526\n"
     ]
    },
    {
     "name": "stderr",
     "output_type": "stream",
     "text": [
      "/usr/local/lib/python3.4/site-packages/sklearn/neural_network/multilayer_perceptron.py:563: ConvergenceWarning: Stochastic Optimizer: Maximum iterations reached and the optimization hasn't converged yet.\n",
      "  % (), ConvergenceWarning)\n"
     ]
    }
   ],
   "source": [
    "for clf in all_clf:\n",
    "    clf.fit(X_train, y_train)\n",
    "    mse = mean_squared_error(y_test, clf.predict(X_test))\n",
    "    print(\"MSE: %.4f\" % mse)"
   ]
  },
  {
   "cell_type": "code",
   "execution_count": 30,
   "metadata": {
    "collapsed": false
   },
   "outputs": [
    {
     "name": "stdout",
     "output_type": "stream",
     "text": [
      "MSE: 8.5533\n",
      "MSE: 10.6060\n",
      "MSE: 14.7588\n",
      "MSE: 21.8410\n",
      "MSE: 41.3197\n",
      "MSE: 53.7500\n",
      "MSE: 58.7770\n",
      "MSE: 56.3232\n"
     ]
    },
    {
     "name": "stderr",
     "output_type": "stream",
     "text": [
      "/usr/local/lib/python3.4/site-packages/sklearn/neural_network/multilayer_perceptron.py:563: ConvergenceWarning: Stochastic Optimizer: Maximum iterations reached and the optimization hasn't converged yet.\n",
      "  % (), ConvergenceWarning)\n"
     ]
    }
   ],
   "source": [
    "# Normalize the data and run again\n",
    "normalizer = preprocessing.Normalizer().fit(X_train)  # fit does nothing\n",
    "X_normalized = normalizer.transform(X_train)\n",
    "for clf in all_clf:\n",
    "    clf.fit(X_normalized, y_train)\n",
    "    mse = mean_squared_error(y_test, clf.predict(normalizer.transform(X_test)))\n",
    "    print(\"MSE: %.4f\" % mse)"
   ]
  },
  {
   "cell_type": "code",
   "execution_count": null,
   "metadata": {
    "collapsed": true
   },
   "outputs": [],
   "source": []
  }
 ],
 "metadata": {
  "kernelspec": {
   "display_name": "Python 3",
   "language": "python",
   "name": "python3"
  },
  "language_info": {
   "codemirror_mode": {
    "name": "ipython",
    "version": 3
   },
   "file_extension": ".py",
   "mimetype": "text/x-python",
   "name": "python",
   "nbconvert_exporter": "python",
   "pygments_lexer": "ipython3",
   "version": "3.4.3"
  }
 },
 "nbformat": 4,
 "nbformat_minor": 1
}
